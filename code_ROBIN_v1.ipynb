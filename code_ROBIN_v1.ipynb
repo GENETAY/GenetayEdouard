{
 "cells": [
  {
   "cell_type": "code",
   "execution_count": 1,
   "metadata": {},
   "outputs": [],
   "source": [
    "# import different de ceux tout en haut pour ne rien toucher a ce qui marche\n",
    "import numpy as np\n",
    "\n",
    "import random\n",
    "\n",
    "from collections import Counter\n",
    "\n",
    "from math import floor,modf,sqrt,log\n",
    "\n",
    "from scipy.spatial.distance import cdist,mahalanobis\n",
    "from scipy.stats import cauchy,chi2,mode\n",
    "\n",
    "from KMOM import *\n",
    "\n",
    "from sklearn import datasets\n",
    "from sklearn.cluster import DBSCAN,Birch\n",
    "from sklearn.metrics import confusion_matrix, accuracy_score, adjusted_rand_score, normalized_mutual_info_score\n",
    "from sklearn.datasets.samples_generator import make_blobs\n",
    "from sklearn.neighbors import LocalOutlierFactor\n",
    "\n",
    "import pandas as pd\n",
    "import seaborn as sns\n",
    "\n",
    "import matplotlib.pyplot as plt\n",
    "%matplotlib inline\n",
    "\n",
    "import time\n",
    "\n",
    "# import skfuzzy as fuzz\n",
    "from pyclustering.cluster.kmedoids import kmedoids\n",
    "from pyclustering.cluster.kmedians import kmedians\n",
    "from pyclustering.cluster.xmeans import xmeans\n",
    "from pyclustering.cluster.center_initializer import kmeans_plusplus_initializer\n",
    "from pyclustering.cluster import cluster_visualizer\n"
   ]
  },
  {
   "cell_type": "code",
   "execution_count": 2,
   "metadata": {},
   "outputs": [],
   "source": [
    "def mapping(target_lbl,clusters):\n",
    "    '''\n",
    "    Dictionary which maps the number cluster to the most probable label\n",
    "    true_label: list of true partition\n",
    "    cluster   : fitted clusters\n",
    "    K         : number of clusters\n",
    "    '''\n",
    "    mymap = {}\n",
    "    for i in set(clusters):\n",
    "        mask = (clusters == i)\n",
    "        mymap[i] = mode(target_lbl[mask])[0][0]\n",
    "    return(mymap)\n",
    "        \n",
    "    \n",
    "def RMSE(centers,centroids_hat,mapp):\n",
    "    '''\n",
    "    centers: theoritical centers\n",
    "    centers_hat: fitted centroids\n",
    "    '''\n",
    "    k,p = centers.shape\n",
    "    incr = 0\n",
    "    for cluster, label in mapp.items():\n",
    "        incr += sum((centroids_hat[cluster] - centers[label])**2)\n",
    "    return((incr/k)**0.5)\n",
    "\n",
    "def accuracy(true_label,cluster,mapp):\n",
    "    labels = [mapp[clu] for clu in cluster]\n",
    "    return(accuracy_score(true_label, labels))\n",
    "\n",
    "def convert_to_y_pred(clusters):\n",
    "    y_true=[0]*n_data\n",
    "    for j in range(len(clusters)):\n",
    "        for index in clusters[j]:\n",
    "            y_true[index]=j\n",
    "    return(np.array(y_true))\n",
    "\n",
    "def def_centers(p,mu):\n",
    "    # dimension de l'entree\n",
    "    K,dim=mu.shape\n",
    "    # les centres en dimension p\n",
    "    centers=np.zeros((K,p))\n",
    "    for k in range(K):\n",
    "            for j in range(dim):\n",
    "                centers[k,j]=mu[k,j]\n",
    "    return(centers)\n",
    "\n",
    "def data_clustered_outliers(n_samples,n_outliers,p,centers = np.array([[1,4],[2,1],[-2,3]]),centers_outliers=np.array([[7,7]]),it_=0):\n",
    "    # initialisation des parametres\n",
    "    centers=def_centers(mu=centers,p=p)\n",
    "    centers_outliers=def_centers(mu=centers_outliers,p=p)\n",
    "    K           = len(centers)              # nombre de classes\n",
    "    sig         = 0.6                       # within variance\n",
    "    # Generation des donnees\n",
    "    Xinlier, y_inlier = make_blobs(n_samples=n_samples, centers=centers, cluster_std=0.60, random_state=it_)\n",
    "    # Outliers creation\n",
    "    Xoutlier, y_outlier = make_blobs(n_samples=n_outliers, centers=centers_outliers, cluster_std=0.60)\n",
    "    # all concatenante\n",
    "    n_data=n_samples+n_outliers\n",
    "    X = np.concatenate([Xoutlier,Xinlier], axis=0)\n",
    "    y_true=np.concatenate([y_outlier+K,y_inlier])\n",
    "#     plt.plot(X[:,0],X[:,1],'b.')\n",
    "    return({'points':X,'partition':y_true,\"centers\":centers})\n",
    "\n",
    "def bloc_size(n_data,n_outliers,p,alpha=0.05,complexity_param=None,bloc_size_mini=0):\n",
    "    '''\n",
    "    Function which fits the maximum size of the blocks such that the theoretical complexity of the creation\n",
    "    of all the blocks is equal to the one of the computation of the assignment of all the data points to their\n",
    "    centers. This maximum size is always smaller that the statistical breakdown size.\n",
    "    ```prms```\n",
    "    n_sample         : nb of data\n",
    "    n_outlier        : nb of outliers\n",
    "    p                : dimension of the problem\n",
    "    alpha            : threshold confidence\n",
    "    complexity_param : set the block creation to be at most 'complexity_param' times computationnaly more complexe\n",
    "                       than assigning each data points to their closest center\n",
    "    '''\n",
    "    max_possible_block_size=floor(log(0.5)/log(1-n_outliers/n_data))\n",
    "    print(\"maximal admissible block size = \",max_possible_block_size)\n",
    "    borne_inf_beta=-2*(1/p+1/(n_samples+n_outliers))*log(alpha)\n",
    "    n_data=n_data+n_outliers\n",
    "    \n",
    "    if complexity_param==None:\n",
    "        complexity_param=30*borne_inf_beta\n",
    "        \n",
    "    if complexity_param<=1:\n",
    "        print(\"complexity_param were too small\")\n",
    "        return()\n",
    "    else:\n",
    "        facteur=complexity_param*borne_inf_beta\n",
    "        bloc_size_max_complexity = floor(log(0.5+sqrt(-0.5*log(alpha)*(1/n_data+1/p)/facteur))/log(1-n_outliers/n_data))\n",
    "    \n",
    "    if bloc_size_mini>0:\n",
    "        if bloc_size_mini>0.9*max_possible_block_size:\n",
    "            print(\"WARNING : the minimum size of block given by bloc_size_mini is too big and will cause very long running time\")\n",
    "            \n",
    "    res=max(min(bloc_size_mini,max_possible_block_size),bloc_size_max_complexity)\n",
    "    return(res)\n",
    "\n",
    "def bloc_nb(n_data,n_outliers,p,b_size=None,alpha=0.05,block_complexity_param=100,bloc_size_mini=None):\n",
    "    '''\n",
    "    Function which fits the minimum nb of blocks for a given size t such that the breakdown\n",
    "    point is not attained and such that the theoretical complexity of the creation of all the\n",
    "    blocks equals the complexity of computing the assignment of all the data points to the centers\n",
    "    ```prms```\n",
    "    b_size    = bloc_size\n",
    "    n_sample  : nb of data\n",
    "    n_outlier : nb of outliers\n",
    "    p         : dimension of the problem\n",
    "    alpha     : threshold confiance\n",
    "    '''\n",
    "    if n_outliers/n_data >= 0.5:\n",
    "        print('too much noise')\n",
    "        return()\n",
    "    elif b_size == None:\n",
    "        t = bloc_size(n_data,n_outliers,p,alpha=alpha,complexity_param=block_complexity_param,bloc_size_mini=None)\n",
    "    else:\n",
    "        t = b_size\n",
    "    \n",
    "    return(1+floor(log(1/alpha) / (2* ((1-n_outliers/n_data)**t - 1/2)**2)))\n",
    "\n",
    "def dist_to_t(XA,rr):\n",
    "    '''\n",
    "    XA = np.array 1D\n",
    "    rr = np.array 1D\n",
    "    to fit the shape that arguments will have when using np.apply_along_axis\n",
    "    '''\n",
    "    XAA=XA.reshape(1,-1) # convert to 2D array to fit cdist() format\n",
    "    rrr=rr.reshape(1,-1) # convert to 2D array to fit cdist() format\n",
    "    res=cdist(XA=XAA,XB=rrr)[0]\n",
    "    return(res)\n",
    "\n",
    "def dist_to_centers(vector,centers):\n",
    "    '''\n",
    "    vector  = 1D array\n",
    "    centers = 1D or 2D array\n",
    "    returns a 1D array with all distances between the vector and the centers\n",
    "    '''\n",
    "    res=np.apply_along_axis(arr=centers,axis=1,func1d=dist_to_t,rr=vector).reshape(1,-1)[0]\n",
    "    return(res)\n",
    "\n",
    "def dist_vec_to_centers(X,centers):\n",
    "    '''\n",
    "    X       = 1D or 2D array\n",
    "    centers = 1D or 2D array\n",
    "    returns a 1D or 2D array with all distances between each rows of X and the centers\n",
    "    the rows of the output corresponds to rows of X and column to the centers\n",
    "    '''\n",
    "    res=np.apply_along_axis(arr=X,axis=1,func1d=dist_to_centers,centers=centers)\n",
    "    return(res)\n",
    "\n",
    "def init_ROBIN( X,k,\n",
    "                method=\"optimum\",epsilon=0.05,determinist=True,\n",
    "                n_neighbors=20, algorithm='auto', leaf_size=30,\n",
    "                metric='minkowski', p=2, metric_params=None,\n",
    "                contamination=\"legacy\", novelty=False, n_jobs=None):\n",
    "    \n",
    "    if not(any(method==np.array([\"optimum\",\"minimum\",\"approx\"]))):\n",
    "        print(\"'method' should be either 'optimum', 'minimum' or 'approx', default 'optimum'. When 'approx' is chosen, give a value for epsilon, default 0.05\")\n",
    "    \n",
    "    \n",
    "    # initialization of variables\n",
    "    n,p=X.shape\n",
    "    if determinist==True:\n",
    "        origine=np.tile(A=0,reps=p).reshape(1,p);origine\n",
    "#         centers=np.array([[]]).reshape(0,p).shape\n",
    "        centers_index=[] # we will return the indexes for more convenience\n",
    "        m=0;m\n",
    "    else:\n",
    "        index_first_center=np.random.choice(np.arange(n),size=1,replace=False)[0]\n",
    "        centers_index=[index_first_center] # we will return the indexes for more convenience\n",
    "        centers=X[index_first_center,:].reshape(1,p)\n",
    "        m=1;m\n",
    "        \n",
    "    \n",
    "    # compute the LOF as first step\n",
    "    init__=LocalOutlierFactor(n_neighbors=n_neighbors, algorithm=algorithm, leaf_size=leaf_size,\n",
    "                     metric=metric, p=p, metric_params=metric_params,\n",
    "                     contamination=contamination, novelty=novelty, n_jobs=n_jobs);init__\n",
    "    LOF_algo_run=init__.fit(X);LOF_algo_run\n",
    "    LOF_values=-LOF_algo_run.negative_outlier_factor_\n",
    "    # print(\"LOF_values=\"+str(LOF_values))\n",
    "    \n",
    "    # search then for k centers\n",
    "    while m<k:\n",
    "        #print(\"m=\",m)\n",
    "        # compute distances to centers except when there is no center yet\n",
    "        if m==0:\n",
    "            array_distance=dist_vec_to_centers(X=X,centers=origine).flatten();#print(\"path 1.1:\")\n",
    "        else:\n",
    "            if m==1:\n",
    "                array_distance=dist_vec_to_centers(X=X,centers=centers).flatten();#print(\"path 1.2:\")\n",
    "            if m >1:\n",
    "                array_distance=dist_vec_to_centers(X=X,centers=centers).min(axis=1);#print(\"path 1.3:\")\n",
    "        # find the index order that would sort the distance array\n",
    "        order=np.flip(m=np.argsort(array_distance),axis=0);order\n",
    "        \n",
    "        # search for the next center\n",
    "        if method=='optimum':\n",
    "            # Looks for the LOF that is the nearest to 1: one transforms the LOF_values with x->(x-1)^2 and then searchs the min\n",
    "            position_ordered_LOF_next_nearest_to_1=np.argsort(((LOF_values[order]-1)**2))[m];position_ordered_LOF_next_nearest_to_1\n",
    "            position_LOF_next_nearest_to_1=order[position_ordered_LOF_next_nearest_to_1];position_LOF_next_nearest_to_1\n",
    "            centers_index.append(position_LOF_next_nearest_to_1);centers_index\n",
    "            point_LOF_next_nearest_to_1=X[position_LOF_next_nearest_to_1,:];point_LOF_next_nearest_to_1\n",
    "            if m==0:\n",
    "                centers=point_LOF_next_nearest_to_1.reshape(1,p);#print(\"path 2.1 : \",centers)\n",
    "            else:\n",
    "                centers=np.concatenate([centers,point_LOF_next_nearest_to_1.reshape(1,p)]);#print(\"path 2.2 : \",centers)\n",
    "        elif method=='minimum':\n",
    "            # Looks for the LOF that is minimum\n",
    "            position_ordered_LOF_next_min=np.argsort(LOF_values[order])[m];position_ordered_LOF_next_min\n",
    "            position_LOF_next_min=order[position_ordered_LOF_next_min];position_LOF_next_min\n",
    "            centers_index.append(position_LOF_next_min)\n",
    "            point_LOF_next_min=X[position_LOF_next_min,:];point_LOF_next_min\n",
    "            if m==0:\n",
    "                centers=point_LOF_next_min.reshape(1,p)\n",
    "            else:\n",
    "                centers=np.concatenate([centers,point_LOF_next_min.reshape(1,p)])\n",
    "        elif method==\"approx\":\n",
    "            # Looks for the first LOF value that falls in ]1-eps,1+eps[\n",
    "            i=0\n",
    "            stopping_crit=True\n",
    "            while stopping_crit:\n",
    "                if i<n:\n",
    "                    # it is indeed possible that one has pointed at all LOF values while centers are still missing.\n",
    "                    # this situation means that the intervalle ]1-eps,1+eps[ contains too few points to be centers.\n",
    "#                     print(i,end='')\n",
    "                    if abs(LOF_values[order[i]]-1)<epsilon and not(any(order[i]==centers_index)):\n",
    "                        centers_index.append(order[i])\n",
    "                        if m==0:\n",
    "                                centers=X[order[i],:].reshape(1,p)\n",
    "                        else:\n",
    "                                centers=np.concatenate([centers,X[order[i],:].reshape(1,p)])\n",
    "                        stopping_crit=False\n",
    "                    else:\n",
    "                        i=i+1\n",
    "                else:\n",
    "                    # all values of LOF have been pointed by the loop and it still misses centers then one uses the 'optimum' method to complet centers \n",
    "                    stopping_crit=False\n",
    "                    method=\"optimum\"\n",
    "        else:\n",
    "            print(\"/!\\ unvalid value given for 'method'\")\n",
    "    \n",
    "        # we now have m+1 centers, we need to increment m\n",
    "        m=m+1;m\n",
    "#         print()\n",
    "    res=np.array(centers_index)\n",
    "    return(res)"
   ]
  },
  {
   "cell_type": "code",
   "execution_count": 3,
   "metadata": {},
   "outputs": [
    {
     "name": "stdout",
     "output_type": "stream",
     "text": [
      "alpha= 0.1\n",
      "complexity_param= 3\n"
     ]
    },
    {
     "data": {
      "text/plain": [
       "[<matplotlib.lines.Line2D at 0x7fc265c0a898>]"
      ]
     },
     "execution_count": 3,
     "metadata": {},
     "output_type": "execute_result"
    },
    {
     "data": {
      "image/png": "[encoded data removed]",
      "text/plain": [
       "<Figure size 432x288 with 1 Axes>"
      ]
     },
     "metadata": {},
     "output_type": "display_data"
    }
   ],
   "source": [
    "n_samples=100\n",
    "k=4\n",
    "K=k\n",
    "n_outliers=10\n",
    "# n_out=n_outliers\n",
    "coef_ech=6\n",
    "p=2\n",
    "alpha=n_outliers/n_samples;print(\"alpha=\",alpha)\n",
    "complexity_param=3;print('complexity_param=',complexity_param)\n",
    "temp=data_clustered_outliers(n_samples=n_samples,n_outliers=n_outliers,p=2)\n",
    "X=temp['points']\n",
    "plt.plot(X[:,0],X[:,1],'b.')"
   ]
  },
  {
   "cell_type": "markdown",
   "metadata": {},
   "source": [
    "## Example of KMOM output"
   ]
  },
  {
   "cell_type": "code",
   "execution_count": 4,
   "metadata": {},
   "outputs": [
    {
     "name": "stdout",
     "output_type": "stream",
     "text": [
      "maximal admissible block size =  7\n",
      "4\n",
      "35\n",
      "warning:: the number of blocks has been computed according to the breakdown point theory\n",
      "cell running time = 0.3951752185821533\n"
     ]
    },
    {
     "name": "stderr",
     "output_type": "stream",
     "text": [
      "/home/jupyter/workspace/EdouardResearch/pour_mon_github/KMOM/algoKMOM_v8_4.py:283: FutureWarning: Using a non-tuple sequence for multidimensional indexing is deprecated; use `arr[tuple(seq)]` instead of `arr[seq]`. In the future this will be interpreted as an array index, `arr[np.array(seq)]`, which will result either in an error or a different result.\n",
      "  D_nk_min_rows = D_nk[[np.arange(self.n).tolist(),partition_array.tolist()]]\n"
     ]
    }
   ],
   "source": [
    "b_size=int(bloc_size(n_data=n_samples+n_outliers,n_outliers=n_outliers,p=p,alpha=alpha,complexity_param=complexity_param,bloc_size_mini=k));print(b_size)\n",
    "nb_blocs=int(bloc_nb(n_data=n_samples+n_outliers,n_outliers=n_outliers,p=p,b_size=b_size,alpha=alpha,block_complexity_param=complexity_param));print(nb_blocs)\n",
    "kmom = KMOMalgo_unif(X=X,K=K,coef_ech=coef_ech,nbr_blocks=nb_blocs,outliers=n_outliers,max_iter=0)\n",
    "t1=time.time()\n",
    "res_kmom = kmom.fit(X=X);res_kmom\n",
    "t2=time.time()\n",
    "print(\"cell running time =\",t2-t1)"
   ]
  },
  {
   "cell_type": "code",
   "execution_count": 5,
   "metadata": {},
   "outputs": [
    {
     "data": {
      "text/plain": [
       "[<matplotlib.lines.Line2D at 0x7fc2e85e8e80>]"
      ]
     },
     "execution_count": 5,
     "metadata": {},
     "output_type": "execute_result"
    },
    {
     "data": {
      "image/png": "[encoded data removed]",
      "text/plain": [
       "<Figure size 432x288 with 1 Axes>"
      ]
     },
     "metadata": {},
     "output_type": "display_data"
    }
   ],
   "source": [
    "plt.plot(X[:,0],X[:,1],'b.')\n",
    "plt.plot(res_kmom['Qb_centers'][0][:,0],res_kmom['Qb_centers'][0][:,1],'ro')"
   ]
  },
  {
   "cell_type": "markdown",
   "metadata": {},
   "source": [
    "## Example output of ROBIN + Images that show the centers ROBIN chose steps after steps"
   ]
  },
  {
   "cell_type": "code",
   "execution_count": 6,
   "metadata": {
    "scrolled": false
   },
   "outputs": [
    {
     "data": {
      "image/png": "[encoded data removed]",
      "text/plain": [
       "<Figure size 432x288 with 1 Axes>"
      ]
     },
     "metadata": {},
     "output_type": "display_data"
    },
    {
     "name": "stdout",
     "output_type": "stream",
     "text": [
      "0.013267993927001953\n"
     ]
    },
    {
     "name": "stderr",
     "output_type": "stream",
     "text": [
      "/home/jupyter/anaconda3/lib/python3.6/site-packages/sklearn/neighbors/lof.py:236: FutureWarning: default contamination parameter 0.1 will change in version 0.22 to \"auto\". This will change the predict method behavior.\n",
      "  FutureWarning)\n"
     ]
    },
    {
     "data": {
      "image/png": "[encoded data removed]",
      "text/plain": [
       "<Figure size 432x288 with 1 Axes>"
      ]
     },
     "metadata": {},
     "output_type": "display_data"
    },
    {
     "name": "stderr",
     "output_type": "stream",
     "text": [
      "/home/jupyter/anaconda3/lib/python3.6/site-packages/sklearn/neighbors/lof.py:236: FutureWarning: default contamination parameter 0.1 will change in version 0.22 to \"auto\". This will change the predict method behavior.\n",
      "  FutureWarning)\n"
     ]
    },
    {
     "name": "stdout",
     "output_type": "stream",
     "text": [
      "0.021671533584594727\n"
     ]
    },
    {
     "data": {
      "image/png": "[encoded data removed]",
      "text/plain": [
       "<Figure size 432x288 with 1 Axes>"
      ]
     },
     "metadata": {},
     "output_type": "display_data"
    },
    {
     "name": "stderr",
     "output_type": "stream",
     "text": [
      "/home/jupyter/anaconda3/lib/python3.6/site-packages/sklearn/neighbors/lof.py:236: FutureWarning: default contamination parameter 0.1 will change in version 0.22 to \"auto\". This will change the predict method behavior.\n",
      "  FutureWarning)\n"
     ]
    },
    {
     "name": "stdout",
     "output_type": "stream",
     "text": [
      "0.02948141098022461\n"
     ]
    },
    {
     "data": {
      "image/png": "[encoded data removed]",
      "text/plain": [
       "<Figure size 432x288 with 1 Axes>"
      ]
     },
     "metadata": {},
     "output_type": "display_data"
    },
    {
     "name": "stderr",
     "output_type": "stream",
     "text": [
      "/home/jupyter/anaconda3/lib/python3.6/site-packages/sklearn/neighbors/lof.py:236: FutureWarning: default contamination parameter 0.1 will change in version 0.22 to \"auto\". This will change the predict method behavior.\n",
      "  FutureWarning)\n"
     ]
    },
    {
     "name": "stdout",
     "output_type": "stream",
     "text": [
      "0.056351661682128906\n"
     ]
    },
    {
     "data": {
      "image/png": "[encoded data removed]",
      "text/plain": [
       "<Figure size 432x288 with 1 Axes>"
      ]
     },
     "metadata": {},
     "output_type": "display_data"
    },
    {
     "name": "stderr",
     "output_type": "stream",
     "text": [
      "/home/jupyter/anaconda3/lib/python3.6/site-packages/sklearn/neighbors/lof.py:236: FutureWarning: default contamination parameter 0.1 will change in version 0.22 to \"auto\". This will change the predict method behavior.\n",
      "  FutureWarning)\n"
     ]
    },
    {
     "name": "stdout",
     "output_type": "stream",
     "text": [
      "0.06232190132141113\n"
     ]
    },
    {
     "data": {
      "image/png": "[encoded data removed]",
      "text/plain": [
       "<Figure size 432x288 with 1 Axes>"
      ]
     },
     "metadata": {},
     "output_type": "display_data"
    }
   ],
   "source": [
    "epsilon=0.1 # The first point to be pointed by ROBIN that has LOF in [1-epsilon,1+epsilon] is choosen as next centroids\n",
    "determinist=True # will the first centroid taken at uniformly at random among data points (False) or according to a criterion that make ROBIN deterministic (True)\n",
    "ls=30 # Default value in LocalOutlierFactor() see here https://scikit-learn.org/stable/modules/generated/sklearn.neighbors.LocalOutlierFactor.html\n",
    "\n",
    "temp=data_clustered_outliers(n_samples=n_samples,n_outliers=n_outliers,p=2)\n",
    "X=temp['points']\n",
    "plt.plot(X[:,0],X[:,1],'b.')\n",
    "plt.savefig('graph/process_ROBIN_0_ls='+str(ls)+'.png')\n",
    "plt.show()\n",
    "plt.plot(X[:,0],X[:,1],'b.')\n",
    "t1=time.time()\n",
    "index_center_init=init_ROBIN(X=X,k=1,method=\"approx\",epsilon=epsilon,determinist=determinist,leaf_size=ls);index_center_init\n",
    "t2=time.time()\n",
    "print(t2-t1)\n",
    "plt.plot(X[index_center_init,0],X[index_center_init,1],'ro')\n",
    "plt.savefig('graph/process_ROBIN_1_ls='+str(ls)+'.png')\n",
    "plt.show()\n",
    "plt.plot(X[:,0],X[:,1],'b.')\n",
    "t1=time.time()\n",
    "index_center_init=init_ROBIN(X=X,k=2,method=\"approx\",epsilon=epsilon,determinist=determinist,leaf_size=ls);index_center_init\n",
    "t2=time.time()\n",
    "print(t2-t1)\n",
    "plt.plot(X[index_center_init,0],X[index_center_init,1],'ro')\n",
    "plt.savefig('graph/process_ROBIN_2_ls='+str(ls)+'.png')\n",
    "plt.show()\n",
    "plt.plot(X[:,0],X[:,1],'b.')\n",
    "t1=time.time()\n",
    "index_center_init=init_ROBIN(X=X,k=3,method=\"approx\",epsilon=epsilon,determinist=determinist,leaf_size=ls);index_center_init\n",
    "t2=time.time()\n",
    "print(t2-t1)\n",
    "plt.plot(X[index_center_init,0],X[index_center_init,1],'ro')\n",
    "plt.savefig('graph/process_ROBIN_3_ls='+str(ls)+'.png')\n",
    "plt.show()\n",
    "plt.plot(X[:,0],X[:,1],'b.')\n",
    "t1=time.time()\n",
    "index_center_init=init_ROBIN(X=X,k=4,method=\"approx\",epsilon=epsilon,determinist=determinist,leaf_size=ls);index_center_init\n",
    "t2=time.time()\n",
    "print(t2-t1)\n",
    "plt.plot(X[index_center_init,0],X[index_center_init,1],'ro')\n",
    "plt.savefig('graph/process_ROBIN_4_ls='+str(ls)+'.png')\n",
    "plt.show()\n",
    "plt.plot(X[:,0],X[:,1],'b.')\n",
    "t1=time.time()\n",
    "index_center_init=init_ROBIN(X=X,k=5,method=\"approx\",epsilon=epsilon,determinist=determinist,leaf_size=ls);index_center_init\n",
    "t2=time.time()\n",
    "print(t2-t1)\n",
    "plt.plot(X[index_center_init,0],X[index_center_init,1],'ro')\n",
    "plt.savefig('graph/process_ROBIN_5_ls='+str(ls)+'.png')\n",
    "plt.show()"
   ]
  },
  {
   "cell_type": "code",
   "execution_count": null,
   "metadata": {},
   "outputs": [],
   "source": []
  }
 ],
 "metadata": {
  "kernelspec": {
   "display_name": "Python 3",
   "language": "python",
   "name": "python3"
  },
  "language_info": {
   "codemirror_mode": {
    "name": "ipython",
    "version": 3
   },
   "file_extension": ".py",
   "mimetype": "text/x-python",
   "name": "python",
   "nbconvert_exporter": "python",
   "pygments_lexer": "ipython3",
   "version": "3.6.5"
  }
 },
 "nbformat": 4,
 "nbformat_minor": 2
}
